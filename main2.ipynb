{
 "cells": [
  {
   "cell_type": "code",
   "execution_count": 1,
   "metadata": {},
   "outputs": [],
   "source": [
    "# libraries we're gonna use\n",
    "import numpy as np\n",
    "import pandas as pd\n",
    "import seaborn as sns\n",
    "from sklearn.model_selection import train_test_split\n",
    "import matplotlib.pyplot as plt\n",
    "from sklearn.preprocessing import PolynomialFeatures\n",
    "from sklearn.preprocessing import StandardScaler, MinMaxScaler\n",
    "from sklearn.linear_model import LinearRegression\n",
    "from sklearn.feature_selection import SelectKBest, mutual_info_classif\n",
    "from sklearn.neighbors import KNeighborsRegressor\n",
    "from sklearn.ensemble import RandomForestRegressor\n",
    "from sklearn.ensemble import GradientBoostingRegressor\n",
    "from sklearn.linear_model import Ridge, Lasso\n",
    "from sklearn.model_selection import GridSearchCV\n",
    "from sklearn.pipeline import Pipeline\n",
    "from sklearn.metrics import mean_squared_error, make_scorer, r2_score\n",
    "import matplotlib.ticker as ticker"
   ]
  },
  {
   "cell_type": "code",
   "execution_count": null,
   "metadata": {},
   "outputs": [],
   "source": [
    "# initial population in 2024\n",
    "\n",
    "edades = np.array([f'{i}-{i+4}' for i in range(0, 101, 5)])\n",
    "\n",
    "hombres = [929686,\n",
    "           1150375,\n",
    "           1296012,\n",
    "           1273951,\n",
    "           1242864,\n",
    "           1283120,\n",
    "           1384020,\n",
    "           1563840,\n",
    "           1923796,\n",
    "           2019607,\n",
    "           1869683,\n",
    "           1719869,\n",
    "           1496882,\n",
    "           1211902,\n",
    "           1028803,\n",
    "           814281,\n",
    "           514750,\n",
    "           365040,\n",
    "           143322,\n",
    "           29196,\n",
    "           4382]\n",
    "\n",
    "mujeres = [880082,\n",
    "           1086536,\n",
    "           1221361,\n",
    "           1197648,\n",
    "           1173169,\n",
    "           1242519,\n",
    "           1367915,\n",
    "           1568488,\n",
    "           1892599,\n",
    "           1977575,\n",
    "           1869996,\n",
    "           1773166,\n",
    "           1591651,\n",
    "           1336099,\n",
    "           1196824,\n",
    "           1026618,\n",
    "           742036,\n",
    "           639505,\n",
    "           320933,\n",
    "           90062,\n",
    "           15257]"
   ]
  },
  {
   "cell_type": "code",
   "execution_count": null,
   "metadata": {},
   "outputs": [],
   "source": [
    "# create df for plotting the population pyramid\n",
    "data = {'edades': edades[::-1], \n",
    "        'hombres': hombres[::-1], \n",
    "        'mujeres': mujeres[::-1]}\n",
    "\n",
    "df = pd.DataFrame(data)"
   ]
  },
  {
   "cell_type": "code",
   "execution_count": null,
   "metadata": {},
   "outputs": [],
   "source": [
    "df"
   ]
  },
  {
   "cell_type": "code",
   "execution_count": null,
   "metadata": {},
   "outputs": [],
   "source": [
    "#reescale the data\n",
    "df['hombres'] = df['hombres'] / -1000\n",
    "df['mujeres'] = df['mujeres'] / 1000"
   ]
  },
  {
   "cell_type": "code",
   "execution_count": null,
   "metadata": {},
   "outputs": [],
   "source": [
    "#plot population pyramid\n",
    "ax1 = sns.barplot(x='hombres', y='edades', data=df)\n",
    "ax2 = sns.barplot(x='mujeres', y='edades', data=df)\n",
    "plt.title(\"Population pyramid for España, 2024 estimates\")\n",
    "plt.xlabel(\"Hombres        |        Mujeres\")\n",
    "plt.grid()\n",
    "plt.xticks(ticks=[-2000, -1000, 0, 1000, 2000],\n",
    "labels=['2M', '1M', '0', '1M', '2M'])"
   ]
  },
  {
   "cell_type": "code",
   "execution_count": null,
   "metadata": {},
   "outputs": [],
   "source": [
    "# extract info from the proyected mortality excel\n",
    "pd.read_excel('36774.xlsx').iloc[5:105,3]"
   ]
  },
  {
   "cell_type": "code",
   "execution_count": null,
   "metadata": {},
   "outputs": [],
   "source": [
    "mort_hombres = pd.read_excel('36774.xlsx').iloc[5:105,0:49]\n",
    "ages         = mort_hombres.columns[0]"
   ]
  },
  {
   "cell_type": "code",
   "execution_count": null,
   "metadata": {},
   "outputs": [],
   "source": [
    "# plot mortality in a given year, setting age boundaries\n",
    "# 2024 <= i <= 2071\n",
    "\n",
    "plt.grid()\n",
    "\n",
    "i    = 2025\n",
    "años = 60\n",
    "v = np.array(mort_hombres.iloc[2:años+3,2072-i])\n",
    "plt.plot(np.arange(0,años+1,1), v, label = str(i))\n",
    "\n",
    "\n",
    "i    = 2050\n",
    "años = 60\n",
    "v = np.array(mort_hombres.iloc[2:años+3,2072-i])\n",
    "plt.plot(np.arange(0,años+1,1), v, label= str(i))\n",
    "\n",
    "i    = 2070\n",
    "años = 60\n",
    "v = np.array(mort_hombres.iloc[2:años+3,2072-i])\n",
    "plt.plot(np.arange(0,años+1,1), v, label= str(i))\n",
    "\n",
    "plt.legend()\n",
    "plt.show()\n"
   ]
  },
  {
   "cell_type": "code",
   "execution_count": null,
   "metadata": {},
   "outputs": [],
   "source": [
    "# same plot as avobe but using bars\n",
    "plt.figure(figsize=(15, 6))\n",
    "\n",
    "v = [2030,2060,2024,2045]\n",
    "\n",
    "for año in sorted(v):\n",
    "\n",
    "    i    = año\n",
    "    años = 60\n",
    "    prob = np.array(mort_hombres.iloc[2:años+3,2072-i])\n",
    "    edad = np.arange(0,años+1,1)\n",
    "\n",
    "    df = pd.DataFrame({\n",
    "        'edad': edad,\n",
    "        'muertes/1000': prob\n",
    "    })\n",
    "\n",
    "    sns.barplot(x='edad', y='muertes/1000',data=df, label = i)\n",
    "\n",
    "\n",
    "# Agregar títulos y etiquetas\n",
    "plt.title('Histograma de defunciones por cada 1000 habitantes')\n",
    "plt.xlabel('edad')\n",
    "plt.ylabel('muertes/1000')\n",
    "plt.legend()\n",
    "# Mostrar el histograma\n",
    "plt.xticks(rotation=90)  # Rotar etiquetas del eje x si es necesario\n",
    "plt.grid(axis='y', linestyle='--', alpha=0.7)\n",
    "\n",
    "plt.show()"
   ]
  },
  {
   "cell_type": "code",
   "execution_count": null,
   "metadata": {},
   "outputs": [],
   "source": []
  }
 ],
 "metadata": {
  "kernelspec": {
   "display_name": "Python 3",
   "language": "python",
   "name": "python3"
  },
  "language_info": {
   "codemirror_mode": {
    "name": "ipython",
    "version": 3
   },
   "file_extension": ".py",
   "mimetype": "text/x-python",
   "name": "python",
   "nbconvert_exporter": "python",
   "pygments_lexer": "ipython3",
   "version": "3.12.1"
  }
 },
 "nbformat": 4,
 "nbformat_minor": 2
}
